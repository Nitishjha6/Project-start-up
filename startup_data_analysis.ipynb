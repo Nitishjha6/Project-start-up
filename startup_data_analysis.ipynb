{
 "cells": [
  {
   "cell_type": "markdown",
   "id": "abaad83b",
   "metadata": {},
   "source": [
    "# Startup Case Study"
   ]
  },
  {
   "cell_type": "code",
   "execution_count": 1,
   "id": "5ab01883",
   "metadata": {},
   "outputs": [],
   "source": [
    "import numpy as np\n",
    "import pandas as pd\n",
    "import matplotlib.pyplot as plt\n",
    "startup_funding=pd.read_csv('datasets/startup_funding.csv')"
   ]
  },
  {
   "cell_type": "markdown",
   "id": "fd9648bf",
   "metadata": {},
   "source": [
    "##### Question 1. Your Friend has developed the Product and he wants to establish the product startup and he is searching for a perfect location where getting the investment has a high chance. But due to its financial restriction, he can choose only between three locations -  Bangalore, Mumbai, and NCR. As a friend, you want to help your friend deciding the location. NCR include Gurgaon, Noida and New Delhi. Find the location where the most number of funding is done. That means, find the location where startups has received funding maximum number of times. Plot the bar graph between location and number of funding. Take city name \"Delhi\" as \"New Delhi\". Check the case-sensitiveness of cities also. That means, at some place instead of \"Bangalore\", \"bangalore\" is given. Take city name as \"Bangalore\". For few startups multiple locations are given, one Indian and one Foreign. Consider the startup if any one of the city lies in given locations."
   ]
  },
  {
   "cell_type": "code",
   "execution_count": 2,
   "id": "3e4140ab",
   "metadata": {},
   "outputs": [],
   "source": [
    "df=startup_funding.copy()"
   ]
  },
  {
   "cell_type": "code",
   "execution_count": 3,
   "id": "88c63b9b",
   "metadata": {},
   "outputs": [
    {
     "data": {
      "text/html": [
       "<div>\n",
       "<style scoped>\n",
       "    .dataframe tbody tr th:only-of-type {\n",
       "        vertical-align: middle;\n",
       "    }\n",
       "\n",
       "    .dataframe tbody tr th {\n",
       "        vertical-align: top;\n",
       "    }\n",
       "\n",
       "    .dataframe thead th {\n",
       "        text-align: right;\n",
       "    }\n",
       "</style>\n",
       "<table border=\"1\" class=\"dataframe\">\n",
       "  <thead>\n",
       "    <tr style=\"text-align: right;\">\n",
       "      <th></th>\n",
       "      <th>SNo</th>\n",
       "      <th>Date</th>\n",
       "      <th>StartupName</th>\n",
       "      <th>IndustryVertical</th>\n",
       "      <th>SubVertical</th>\n",
       "      <th>CityLocation</th>\n",
       "      <th>InvestorsName</th>\n",
       "      <th>InvestmentType</th>\n",
       "      <th>AmountInUSD</th>\n",
       "      <th>Remarks</th>\n",
       "    </tr>\n",
       "  </thead>\n",
       "  <tbody>\n",
       "    <tr>\n",
       "      <th>0</th>\n",
       "      <td>0</td>\n",
       "      <td>01/08/2017</td>\n",
       "      <td>TouchKin</td>\n",
       "      <td>Technology</td>\n",
       "      <td>Predictive Care Platform</td>\n",
       "      <td>Bangalore</td>\n",
       "      <td>Kae Capital</td>\n",
       "      <td>Private Equity</td>\n",
       "      <td>1,300,000</td>\n",
       "      <td>NaN</td>\n",
       "    </tr>\n",
       "    <tr>\n",
       "      <th>1</th>\n",
       "      <td>1</td>\n",
       "      <td>02/08/2017</td>\n",
       "      <td>Ethinos</td>\n",
       "      <td>Technology</td>\n",
       "      <td>Digital Marketing Agency</td>\n",
       "      <td>Mumbai</td>\n",
       "      <td>Triton Investment Advisors</td>\n",
       "      <td>Private Equity</td>\n",
       "      <td>NaN</td>\n",
       "      <td>NaN</td>\n",
       "    </tr>\n",
       "    <tr>\n",
       "      <th>2</th>\n",
       "      <td>2</td>\n",
       "      <td>02/08/2017</td>\n",
       "      <td>Leverage Edu</td>\n",
       "      <td>Consumer Internet</td>\n",
       "      <td>Online platform for Higher Education Services</td>\n",
       "      <td>New Delhi</td>\n",
       "      <td>Kashyap Deorah, Anand Sankeshwar, Deepak Jain,...</td>\n",
       "      <td>Seed Funding</td>\n",
       "      <td>NaN</td>\n",
       "      <td>NaN</td>\n",
       "    </tr>\n",
       "    <tr>\n",
       "      <th>3</th>\n",
       "      <td>3</td>\n",
       "      <td>02/08/2017</td>\n",
       "      <td>Zepo</td>\n",
       "      <td>Consumer Internet</td>\n",
       "      <td>DIY Ecommerce platform</td>\n",
       "      <td>Mumbai</td>\n",
       "      <td>Kunal Shah, LetsVenture, Anupam Mittal, Hetal ...</td>\n",
       "      <td>Seed Funding</td>\n",
       "      <td>500,000</td>\n",
       "      <td>NaN</td>\n",
       "    </tr>\n",
       "    <tr>\n",
       "      <th>4</th>\n",
       "      <td>4</td>\n",
       "      <td>02/08/2017</td>\n",
       "      <td>Click2Clinic</td>\n",
       "      <td>Consumer Internet</td>\n",
       "      <td>healthcare service aggregator</td>\n",
       "      <td>Hyderabad</td>\n",
       "      <td>Narottam Thudi, Shireesh Palle</td>\n",
       "      <td>Seed Funding</td>\n",
       "      <td>850,000</td>\n",
       "      <td>NaN</td>\n",
       "    </tr>\n",
       "  </tbody>\n",
       "</table>\n",
       "</div>"
      ],
      "text/plain": [
       "   SNo        Date   StartupName   IndustryVertical  \\\n",
       "0    0  01/08/2017      TouchKin         Technology   \n",
       "1    1  02/08/2017       Ethinos         Technology   \n",
       "2    2  02/08/2017  Leverage Edu  Consumer Internet   \n",
       "3    3  02/08/2017          Zepo  Consumer Internet   \n",
       "4    4  02/08/2017  Click2Clinic  Consumer Internet   \n",
       "\n",
       "                                     SubVertical CityLocation  \\\n",
       "0                       Predictive Care Platform    Bangalore   \n",
       "1                       Digital Marketing Agency       Mumbai   \n",
       "2  Online platform for Higher Education Services    New Delhi   \n",
       "3                         DIY Ecommerce platform       Mumbai   \n",
       "4                  healthcare service aggregator    Hyderabad   \n",
       "\n",
       "                                       InvestorsName  InvestmentType  \\\n",
       "0                                        Kae Capital  Private Equity   \n",
       "1                         Triton Investment Advisors  Private Equity   \n",
       "2  Kashyap Deorah, Anand Sankeshwar, Deepak Jain,...    Seed Funding   \n",
       "3  Kunal Shah, LetsVenture, Anupam Mittal, Hetal ...    Seed Funding   \n",
       "4                     Narottam Thudi, Shireesh Palle    Seed Funding   \n",
       "\n",
       "  AmountInUSD Remarks  \n",
       "0   1,300,000     NaN  \n",
       "1         NaN     NaN  \n",
       "2         NaN     NaN  \n",
       "3     500,000     NaN  \n",
       "4     850,000     NaN  "
      ]
     },
     "execution_count": 3,
     "metadata": {},
     "output_type": "execute_result"
    }
   ],
   "source": [
    "df.head()"
   ]
  },
  {
   "cell_type": "code",
   "execution_count": 4,
   "id": "c8160f1f",
   "metadata": {},
   "outputs": [],
   "source": [
    "df = df[df['CityLocation'].notna()] #dropping missing values"
   ]
  },
  {
   "cell_type": "markdown",
   "id": "33397d86",
   "metadata": {},
   "source": [
    "### A function to get 1st city in case multiple are given"
   ]
  },
  {
   "cell_type": "code",
   "execution_count": 5,
   "id": "9731405b",
   "metadata": {},
   "outputs": [],
   "source": [
    "def separateCity(city):\n",
    "    return city.split('/')[0].strip()\n",
    "df['CityLocation']=df['CityLocation'].apply(separateCity)"
   ]
  },
  {
   "cell_type": "markdown",
   "id": "e9bab552",
   "metadata": {},
   "source": [
    "### Replacing bangalore with Bangalore"
   ]
  },
  {
   "cell_type": "code",
   "execution_count": 6,
   "id": "3f75e27e",
   "metadata": {},
   "outputs": [],
   "source": [
    "df['CityLocation'].replace(\"bangalore\",\"Bangalore\",inplace=True)"
   ]
  },
  {
   "cell_type": "markdown",
   "id": "09831680",
   "metadata": {},
   "source": [
    "### Replacing Delhi with New Delhi"
   ]
  },
  {
   "cell_type": "code",
   "execution_count": 7,
   "id": "58099529",
   "metadata": {},
   "outputs": [],
   "source": [
    "df['CityLocation'].replace(\"Delhi\",\"New Delhi\",inplace=True)"
   ]
  },
  {
   "cell_type": "markdown",
   "id": "25c84084",
   "metadata": {},
   "source": [
    "### Getting number of times different cities recieved funding"
   ]
  },
  {
   "cell_type": "code",
   "execution_count": 8,
   "id": "d9c0f183",
   "metadata": {},
   "outputs": [],
   "source": [
    "banglore=(df['CityLocation']=='Bangalore').value_counts()[True]"
   ]
  },
  {
   "cell_type": "code",
   "execution_count": 9,
   "id": "60ae5dd7",
   "metadata": {},
   "outputs": [],
   "source": [
    "new_delhi=(df['CityLocation']=='New Delhi').value_counts()[True]"
   ]
  },
  {
   "cell_type": "code",
   "execution_count": 10,
   "id": "e8b1f3d1",
   "metadata": {},
   "outputs": [],
   "source": [
    "gurgaon=(df['CityLocation']=='Gurgaon').value_counts()[True]"
   ]
  },
  {
   "cell_type": "code",
   "execution_count": 11,
   "id": "9bb730f1",
   "metadata": {},
   "outputs": [],
   "source": [
    "noida=(df['CityLocation']=='Noida').value_counts()[True]"
   ]
  },
  {
   "cell_type": "markdown",
   "id": "dfd86087",
   "metadata": {},
   "source": [
    "### NCR is union of three cities"
   ]
  },
  {
   "cell_type": "code",
   "execution_count": 12,
   "id": "87e5ae36",
   "metadata": {},
   "outputs": [],
   "source": [
    "ncr=new_delhi+gurgaon+noida"
   ]
  },
  {
   "cell_type": "code",
   "execution_count": 13,
   "id": "d087f3ae",
   "metadata": {},
   "outputs": [],
   "source": [
    "mumbai=(df['CityLocation']=='Mumbai').value_counts()[True]"
   ]
  },
  {
   "cell_type": "code",
   "execution_count": 14,
   "id": "23fefdcf",
   "metadata": {},
   "outputs": [
    {
     "data": {
      "text/plain": [
       "635"
      ]
     },
     "execution_count": 14,
     "metadata": {},
     "output_type": "execute_result"
    }
   ],
   "source": [
    "banglore"
   ]
  },
  {
   "cell_type": "code",
   "execution_count": 15,
   "id": "4e5b53d6",
   "metadata": {},
   "outputs": [
    {
     "data": {
      "text/plain": [
       "449"
      ]
     },
     "execution_count": 15,
     "metadata": {},
     "output_type": "execute_result"
    }
   ],
   "source": [
    "mumbai"
   ]
  },
  {
   "cell_type": "code",
   "execution_count": 16,
   "id": "4bd80d9a",
   "metadata": {},
   "outputs": [
    {
     "data": {
      "text/plain": [
       "709"
      ]
     },
     "execution_count": 16,
     "metadata": {},
     "output_type": "execute_result"
    }
   ],
   "source": [
    "ncr"
   ]
  },
  {
   "cell_type": "markdown",
   "id": "f77346d7",
   "metadata": {},
   "source": [
    "## So NCR has received funding maximum number of times that 709 times"
   ]
  },
  {
   "cell_type": "markdown",
   "id": "57676c38",
   "metadata": {},
   "source": [
    "## Making bar graph between cities and number of time they have recieved funding"
   ]
  },
  {
   "cell_type": "code",
   "execution_count": 17,
   "id": "e10cfdc5",
   "metadata": {},
   "outputs": [],
   "source": [
    "x=['Banglore','Mumbai','NCR']\n",
    "y=[635,449,709]"
   ]
  },
  {
   "cell_type": "code",
   "execution_count": 18,
   "id": "ca7c77e5",
   "metadata": {
    "scrolled": true
   },
   "outputs": [
    {
     "data": {
      "image/png": "[encoded data removed]",
      "text/plain": [
       "<Figure size 432x288 with 1 Axes>"
      ]
     },
     "metadata": {
      "needs_background": "light"
     },
     "output_type": "display_data"
    }
   ],
   "source": [
    "plt.bar(x,y,color='maroon')\n",
    "plt.xlabel(\"Cities\")\n",
    "plt.ylabel(\"No. of times funding recieved\")\n",
    "plt.title(\"Funding recieved count\")\n",
    "plt.show()"
   ]
  },
  {
   "cell_type": "markdown",
   "id": "b475a40c",
   "metadata": {},
   "source": [
    "##### Question 2 Even after trying for so many times, your friend’s startup could not find the investment. So you decided to take this matter in your hand and try to find the list of investors who probably can invest in your friend’s startup. Your list will increase the chance of your friend startup getting some initial investment by contacting these investors. Find the top 5 investors who have invested maximum number of times (consider repeat investments in one company also). In a startup, multiple investors might have invested. So consider each investor for that startup. Ignore undisclosed investors."
   ]
  },
  {
   "cell_type": "code",
   "execution_count": 19,
   "id": "a22278dc",
   "metadata": {},
   "outputs": [],
   "source": [
    "df=startup_funding.copy()"
   ]
  },
  {
   "cell_type": "markdown",
   "id": "3cc5ac94",
   "metadata": {},
   "source": [
    "### Cleaning InvestorName column's data"
   ]
  },
  {
   "cell_type": "code",
   "execution_count": 20,
   "id": "8d166955",
   "metadata": {},
   "outputs": [],
   "source": [
    "df.dropna(subset=[\"InvestorsName\"],inplace=True)"
   ]
  },
  {
   "cell_type": "code",
   "execution_count": 21,
   "id": "182bcc38",
   "metadata": {},
   "outputs": [],
   "source": [
    "invester  =  df[\"InvestorsName\"].str.split(',')"
   ]
  },
  {
   "cell_type": "code",
   "execution_count": 22,
   "id": "ed6b0a5f",
   "metadata": {},
   "outputs": [],
   "source": [
    "newarray =  [j.strip() for sub in invester for j in sub]"
   ]
  },
  {
   "cell_type": "markdown",
   "id": "4bd18b29",
   "metadata": {},
   "source": [
    "### nameseries contains count of number of times each particular investor invested"
   ]
  },
  {
   "cell_type": "code",
   "execution_count": 23,
   "id": "fd64328f",
   "metadata": {},
   "outputs": [],
   "source": [
    "nameseries =  pd.Series(newarray).value_counts()"
   ]
  },
  {
   "cell_type": "markdown",
   "id": "f6898685",
   "metadata": {},
   "source": [
    "### top5Investors contains top 5 investors (in terms of number of times invested)"
   ]
  },
  {
   "cell_type": "code",
   "execution_count": 24,
   "id": "ed319742",
   "metadata": {},
   "outputs": [],
   "source": [
    "top5Investors=nameseries[:5]"
   ]
  },
  {
   "cell_type": "code",
   "execution_count": 25,
   "id": "c27b88f1",
   "metadata": {
    "scrolled": false
   },
   "outputs": [
    {
     "name": "stdout",
     "output_type": "stream",
     "text": [
      "Top 5 Investors are \n",
      "Sequoia Capital         64\n",
      "Accel Partners          53\n",
      "Kalaari Capital         44\n",
      "SAIF Partners           41\n",
      "Indian Angel Network    40\n",
      "dtype: int64\n"
     ]
    }
   ],
   "source": [
    "print(\"Top 5 Investors are \")\n",
    "print(top5Investors)"
   ]
  },
  {
   "cell_type": "markdown",
   "id": "f77dc156",
   "metadata": {},
   "source": [
    "## So, Top 5 investors are :\n",
    "### Sequoia Capital         64\n",
    "### Accel Partners          53\n",
    "### Kalaari Capital         44\n",
    "### SAIF Partners           41\n",
    "### Indian Angel Network    40"
   ]
  },
  {
   "cell_type": "code",
   "execution_count": 26,
   "id": "3ed7366f",
   "metadata": {},
   "outputs": [
    {
     "data": {
      "image/png": "[encoded data removed]",
      "text/plain": [
       "<Figure size 432x288 with 1 Axes>"
      ]
     },
     "metadata": {},
     "output_type": "display_data"
    }
   ],
   "source": [
    "total=(64+53+44+41+40)/100\n",
    "sizes=[64/total,53/total,44/total,41/total,40/total]\n",
    "labels=['Sequoia Capital', 'Accel Partners', 'Kalaari Capital', 'SAIF Partners', 'Indian Angel Network']\n",
    "colors=[\"gold\",\"pink\",\"orange\",\"green\",\"silver\"]\n",
    "explode=[.1,.1,.1,.1,.1]\n",
    "plt.title(\"Split among Top 5 investors\")\n",
    "plt.pie(sizes,colors=colors,labels=labels,autopct=\"%.2f%%\",explode=explode)\n",
    "plt.show()"
   ]
  },
  {
   "cell_type": "markdown",
   "id": "13cfd4a9",
   "metadata": {},
   "source": [
    "#####  Question3 After re-analysing the dataset you found out that some investors have invested in the same startup at different number of funding rounds. So before finalising the previous list, you want to improvise it by finding the top 5 investors who have invested in different number of startups. This list will be more helpful than your previous list in finding the investment for your friend startup. Find the top 5 investors who have invested maximum number of times in different companies. That means, if one investor has invested multiple times in one startup, count one for that company. There are many errors in startup names. Ignore correcting all, just handle the important ones - Ola, Flipkart, Oyo and Paytm."
   ]
  },
  {
   "cell_type": "code",
   "execution_count": 27,
   "id": "a401d628",
   "metadata": {},
   "outputs": [],
   "source": [
    "df=startup_funding.copy()"
   ]
  },
  {
   "cell_type": "markdown",
   "id": "3e2a8347",
   "metadata": {},
   "source": [
    "### Cleaning StartupName column data for important startups : Ola, Flipkart, Oyo and Paytm."
   ]
  },
  {
   "cell_type": "code",
   "execution_count": 28,
   "id": "5c7f8a31",
   "metadata": {},
   "outputs": [],
   "source": [
    "df = df[df['StartupName'].notna()]\n",
    "df['StartupName'].replace(\"Flipkart.com\",\"Flipkart\",inplace=True)\n",
    "df['StartupName'].replace(\"Oyo Rooms\",\"Oyo\",inplace=True)\n",
    "df['StartupName'].replace(\"Olacabs\",\"Ola\",inplace=True)\n",
    "df['StartupName'].replace(\"Ola Cabs\",\"Ola\",inplace=True)\n",
    "df['StartupName'].replace(\"Paytm Marketplace\",\"Paytm\",inplace=True)\n",
    "df['StartupName'].replace(\"Oyorooms\",\"Oyo\",inplace=True)\n",
    "df['StartupName'].replace(\"OyoRooms\",\"Oyo\",inplace=True)\n",
    "df['StartupName'].replace(\"OYO Rooms\",\"Oyo\",inplace=True)"
   ]
  },
  {
   "cell_type": "markdown",
   "id": "97c6411a",
   "metadata": {},
   "source": [
    "### Cleaning InvestorName column's data"
   ]
  },
  {
   "cell_type": "code",
   "execution_count": 29,
   "id": "a3e886a0",
   "metadata": {},
   "outputs": [],
   "source": [
    "df.dropna(subset=[\"InvestorsName\"],inplace=True)"
   ]
  },
  {
   "cell_type": "markdown",
   "id": "5f588453",
   "metadata": {},
   "source": [
    "### pairs is a set which will contain tuples (investor name,startup in which he invested) so that we don't count a investor investing in same company at different points of time more than once.\n",
    "### top_investors is an array and will conatin investor names"
   ]
  },
  {
   "cell_type": "code",
   "execution_count": 30,
   "id": "c4f7ac54",
   "metadata": {},
   "outputs": [],
   "source": [
    "top_investors=[]\n",
    "pairs=set()\n",
    "for i in range(len(df)):\n",
    "    invester  =  df.iloc[i][\"InvestorsName\"].split(',')\n",
    "    for j in range(len(invester)):\n",
    "        invester[j]=invester[j].strip()\n",
    "        if invester[j]=='':\n",
    "            continue\n",
    "        pair=(invester[j],df.iloc[i][\"StartupName\"])\n",
    "        if pair in pairs:\n",
    "            continue\n",
    "        else:\n",
    "            pairs.add(pair)\n",
    "            top_investors.append(invester[j])"
   ]
  },
  {
   "cell_type": "code",
   "execution_count": 31,
   "id": "7491d362",
   "metadata": {},
   "outputs": [],
   "source": [
    "nameseries =  pd.Series(top_investors).value_counts()"
   ]
  },
  {
   "cell_type": "markdown",
   "id": "fb56bb19",
   "metadata": {},
   "source": [
    "### Extracting top 5 investors from nameseries in top5Investors"
   ]
  },
  {
   "cell_type": "code",
   "execution_count": 32,
   "id": "d2354a2e",
   "metadata": {},
   "outputs": [],
   "source": [
    "top5Investors=nameseries[:5]"
   ]
  },
  {
   "cell_type": "code",
   "execution_count": 33,
   "id": "e557dc14",
   "metadata": {},
   "outputs": [
    {
     "name": "stdout",
     "output_type": "stream",
     "text": [
      "Top 5 Investors are \n",
      "Sequoia Capital         48\n",
      "Accel Partners          47\n",
      "Kalaari Capital         41\n",
      "Indian Angel Network    40\n",
      "Blume Ventures          36\n",
      "dtype: int64\n"
     ]
    }
   ],
   "source": [
    "print(\"Top 5 Investors are \")\n",
    "print(top5Investors)"
   ]
  },
  {
   "cell_type": "markdown",
   "id": "d0182bbc",
   "metadata": {},
   "source": [
    "## So, Top 5 investors are :\n",
    "### Sequoia Capital         48\n",
    "### Accel Partners          47\n",
    "### Kalaari Capital         41\n",
    "### Indian Angel Network    40\n",
    "### Blume Ventures          36"
   ]
  },
  {
   "cell_type": "code",
   "execution_count": 34,
   "id": "43217902",
   "metadata": {
    "scrolled": false
   },
   "outputs": [
    {
     "data": {
      "image/png": "[encoded data removed]",
      "text/plain": [
       "<Figure size 432x288 with 1 Axes>"
      ]
     },
     "metadata": {},
     "output_type": "display_data"
    }
   ],
   "source": [
    "total=(48+47+41+40+36)/100\n",
    "sizes=[48/total,47/total,41/total,40/total,36/total]\n",
    "labels=['Sequoia Capital', 'Accel Partners', 'Kalaari Capital', 'Indian Angel Network','Blume Ventures']\n",
    "colors=[\"gold\",\"pink\",\"orange\",\"green\",\"silver\"]\n",
    "explode=[.1,.1,.1,.1,.1]\n",
    "plt.title(\"Split among Top 5 investors with each startup they invested in is counted as single investment\")\n",
    "plt.pie(sizes,colors=colors,labels=labels,autopct=\"%.2f%%\",explode=explode)\n",
    "plt.show()"
   ]
  },
  {
   "cell_type": "markdown",
   "id": "cf98de68",
   "metadata": {},
   "source": [
    "##### 4 Even after putting so much effort in finding the probable investors, it didn't turn out to be helpful for your friend. So you went to your investor friend to understand the situation better and your investor friend explained to you about the different Investment Types and their features. This new information will be helpful in finding the right investor. Since your friend startup is at an early stage startup, the best-suited investment type would be - Seed Funding and Crowdfunding. Find the top 5 investors who have invested in a different number of startups and their investment type is Crowdfunding or Seed Funding. Correct spelling of investment types are - \"Private Equity\", \"Seed Funding\", \"Debt Funding\", and \"Crowd Funding\". Keep an eye for any spelling mistake. You can find this by printing unique values from this column. There are many errors in startup names. Ignore correcting all, just handle the important ones - Ola, Flipkart, Oyo and Paytm."
   ]
  },
  {
   "cell_type": "code",
   "execution_count": 35,
   "id": "a00b1fb4",
   "metadata": {},
   "outputs": [],
   "source": [
    "df=startup_funding.copy()"
   ]
  },
  {
   "cell_type": "markdown",
   "id": "f31ef475",
   "metadata": {},
   "source": [
    "### Correcting inestment types (the ones we need for current question)"
   ]
  },
  {
   "cell_type": "code",
   "execution_count": 36,
   "id": "622169bf",
   "metadata": {},
   "outputs": [],
   "source": [
    "df['InvestmentType'].replace(\"SeedFunding\",\"Seed Funding\",inplace=True)\n",
    "df['InvestmentType'].replace(\"Crowd funding\",\"Crowd Funding\",inplace=True)\n",
    "df = df[df['InvestmentType'].notna()]"
   ]
  },
  {
   "cell_type": "code",
   "execution_count": 37,
   "id": "87501181",
   "metadata": {},
   "outputs": [],
   "source": [
    "df.dropna(subset=[\"InvestorsName\"],inplace=True)"
   ]
  },
  {
   "cell_type": "markdown",
   "id": "852372cd",
   "metadata": {},
   "source": [
    "### topInvestors is a dictionary containing count of number of times an investor invested with  InvestmentType as Seed Funding or Crowd Funding"
   ]
  },
  {
   "cell_type": "code",
   "execution_count": 38,
   "id": "4976d1fe",
   "metadata": {},
   "outputs": [],
   "source": [
    "topInvestors={}\n",
    "for i in range(len(df)):\n",
    "    if df.iloc[i]['InvestmentType']=='Seed Funding' or df.iloc[i]['InvestmentType']=='Crowd Funding':\n",
    "        invester  =  df.iloc[i][\"InvestorsName\"].split(',')\n",
    "        for j in range(len(invester)):\n",
    "            invester[j]=invester[j].strip()\n",
    "            if invester[j]=='' or invester[j]=='Undisclosed investors' or invester[j]=='Undisclosed Investors':\n",
    "                continue\n",
    "            if invester[j] in topInvestors:\n",
    "                topInvestors[invester[j]]+=1\n",
    "            else:\n",
    "                topInvestors[invester[j]]=1"
   ]
  },
  {
   "cell_type": "markdown",
   "id": "4686aa80",
   "metadata": {},
   "source": [
    "### importing itemgetter to sort dictionary topInvestors and get top 5 investors in res"
   ]
  },
  {
   "cell_type": "code",
   "execution_count": 39,
   "id": "1416ebec",
   "metadata": {},
   "outputs": [],
   "source": [
    "from operator import itemgetter"
   ]
  },
  {
   "cell_type": "code",
   "execution_count": 40,
   "id": "5d3ba7e4",
   "metadata": {},
   "outputs": [
    {
     "name": "stdout",
     "output_type": "stream",
     "text": [
      "Indian Angel Network 33\n",
      "Rajan Anandan 25\n",
      "LetsVenture 16\n",
      "Anupam Mittal 16\n",
      "Group of Angel Investors 15\n"
     ]
    }
   ],
   "source": [
    "res = dict(sorted(topInvestors.items(), key = itemgetter(1), reverse = True)[:5])\n",
    "for i in res:\n",
    "    print(i,res[i])"
   ]
  },
  {
   "cell_type": "markdown",
   "id": "d4b44431",
   "metadata": {},
   "source": [
    "## So top 5 investors with their investment type as Seed Funding or Crowd Funding are :\n",
    "## Indian Angel Network, Rajan Anandan, LetsVenture, Anupam Mittal, Group of Angel Investors."
   ]
  },
  {
   "cell_type": "code",
   "execution_count": 41,
   "id": "40c2ccc1",
   "metadata": {},
   "outputs": [
    {
     "data": {
      "image/png": "[encoded data removed]",
      "text/plain": [
       "<Figure size 432x288 with 1 Axes>"
      ]
     },
     "metadata": {},
     "output_type": "display_data"
    }
   ],
   "source": [
    "total=(33+25+16+16+15)/100\n",
    "sizes=[33/total,25/total,16/total,16/total,15/total]\n",
    "labels=['Indian Angel Network', 'Rajan Anandan', 'LetsVenture', 'Anupam Mittal','Group of Angel Investors']\n",
    "colors=[\"gold\",\"pink\",\"orange\",\"green\",\"silver\"]\n",
    "explode=[.1,.1,.1,.1,.1]\n",
    "plt.title(\"Distribution among top 5 investors with their investment type as Seed Funding or Crowd Funding\")\n",
    "plt.pie(sizes,colors=colors,labels=labels,autopct=\"%.2f%%\",explode=explode)\n",
    "plt.show()"
   ]
  },
  {
   "cell_type": "markdown",
   "id": "9b9926cc",
   "metadata": {},
   "source": [
    "##### Question 5 Due to your immense help, your friend startup successfully got seed funding and it is on the operational mode. Now your friend wants to expand his startup and he is looking for new investors for his startup. Now you again come as a saviour to help your friend and want to create a list of probable new new investors. Before moving forward you remember your investor friend advice that finding the investors by analysing the investment type. Since your friend startup is not in early phase it is in growth stage so the best-suited investment type is Private Equity. Find the top 5 investors who have invested in a different number of startups and their investment type is Private Equity. Correct spelling of investment types are - \"Private Equity\", \"Seed Funding\", \"Debt Funding\", and \"Crowd Funding\". Keep an eye for any spelling mistake. You can find this by printing unique values from this column. There are many errors in startup names. Ignore correcting all, just handle the important ones - Ola, Flipkart, Oyo and Paytm."
   ]
  },
  {
   "cell_type": "code",
   "execution_count": 42,
   "id": "f6183ba9",
   "metadata": {},
   "outputs": [],
   "source": [
    "df=startup_funding.copy()"
   ]
  },
  {
   "cell_type": "markdown",
   "id": "634ba4cc",
   "metadata": {},
   "source": [
    "### Correcting inestment types (the ones we need for current question)"
   ]
  },
  {
   "cell_type": "code",
   "execution_count": 43,
   "id": "df6ea895",
   "metadata": {},
   "outputs": [],
   "source": [
    "df['InvestmentType'].replace(\"PrivateEquity\",\"Private Equity\",inplace=True)\n",
    "df = df[df['InvestmentType'].notna()]"
   ]
  },
  {
   "cell_type": "code",
   "execution_count": 44,
   "id": "ab7e0819",
   "metadata": {},
   "outputs": [],
   "source": [
    "df.dropna(subset=[\"InvestorsName\"],inplace=True)"
   ]
  },
  {
   "cell_type": "markdown",
   "id": "e5448cde",
   "metadata": {},
   "source": [
    "### topInvestors is a dictionary containing count of number of times an investor invested with InvestmentType as Private Equity"
   ]
  },
  {
   "cell_type": "code",
   "execution_count": 45,
   "id": "5eab4cdc",
   "metadata": {},
   "outputs": [],
   "source": [
    "topInvestors={}\n",
    "for i in range(len(df)):\n",
    "    if df.iloc[i]['InvestmentType']=='Private Equity':\n",
    "        invester  =  df.iloc[i][\"InvestorsName\"].split(',')\n",
    "        for j in range(len(invester)):\n",
    "            invester[j]=invester[j].strip()\n",
    "            if invester[j]=='' or invester[j]=='Undisclosed investors' or invester[j]=='Undisclosed Investors':\n",
    "                continue\n",
    "            if invester[j] in topInvestors:\n",
    "                topInvestors[invester[j]]+=1\n",
    "            else:\n",
    "                topInvestors[invester[j]]=1"
   ]
  },
  {
   "cell_type": "code",
   "execution_count": 46,
   "id": "f311c42f",
   "metadata": {},
   "outputs": [
    {
     "name": "stdout",
     "output_type": "stream",
     "text": [
      "Sequoia Capital 59\n",
      "Accel Partners 47\n",
      "Kalaari Capital 38\n",
      "SAIF Partners 35\n",
      "Blume Ventures 29\n"
     ]
    }
   ],
   "source": [
    "res = dict(sorted(topInvestors.items(), key = itemgetter(1), reverse = True)[:5])\n",
    "for i in res:\n",
    "    print(i,res[i])"
   ]
  },
  {
   "cell_type": "markdown",
   "id": "2e5649b7",
   "metadata": {},
   "source": [
    "## So top 5 investors with their investment type as Private Equity are : Sequoia Capital, Accel Partners, Kalaari Capital, SAIF Partners, Blume Ventures."
   ]
  },
  {
   "cell_type": "code",
   "execution_count": 47,
   "id": "6fd6b630",
   "metadata": {},
   "outputs": [
    {
     "data": {
      "image/png": "[encoded data removed]",
      "text/plain": [
       "<Figure size 432x288 with 1 Axes>"
      ]
     },
     "metadata": {},
     "output_type": "display_data"
    }
   ],
   "source": [
    "total=(59+47+38+35+29)/100\n",
    "sizes=[59/total,47/total,38/total,35/total,29/total]\n",
    "labels=['Sequoia Capital', 'Accel Partners', 'Kalaari Capital', 'SAIF Partners', 'Blume Ventures']\n",
    "colors=[\"gold\",\"pink\",\"orange\",\"green\",\"silver\"]\n",
    "explode=[.1,.1,.1,.1,.1]\n",
    "plt.title(\"Distribution among top 5 investors with their investment type as Private Equity\")\n",
    "plt.pie(sizes,colors=colors,labels=labels,autopct=\"%.2f%%\",explode=explode)\n",
    "plt.show()"
   ]
  }
 ],
 "metadata": {
  "kernelspec": {
   "display_name": "Python 3",
   "language": "python",
   "name": "python3"
  },
  "language_info": {
   "codemirror_mode": {
    "name": "ipython",
    "version": 3
   },
   "file_extension": ".py",
   "mimetype": "text/x-python",
   "name": "python",
   "nbconvert_exporter": "python",
   "pygments_lexer": "ipython3",
   "version": "3.8.8"
  }
 },
 "nbformat": 4,
 "nbformat_minor": 5
}
